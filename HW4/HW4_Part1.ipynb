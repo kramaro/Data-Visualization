{
  "nbformat": 4,
  "nbformat_minor": 0,
  "metadata": {
    "colab": {
      "name": "HW4_Part1.ipynb",
      "provenance": [],
      "collapsed_sections": []
    },
    "kernelspec": {
      "name": "python3",
      "display_name": "Python 3"
    },
    "language_info": {
      "name": "python"
    }
  },
  "cells": [
    {
      "cell_type": "code",
      "source": [
        "import pandas as pd\n",
        "import matplotlib.pyplot as plt\n",
        "\n",
        "from google.colab import drive\n",
        "drive.mount('/content/drive')\n"
      ],
      "metadata": {
        "id": "8yTvQ3uoVIyD",
        "outputId": "cd3e8fed-ca03-40be-d433-f4f3c8a341b1",
        "colab": {
          "base_uri": "https://localhost:8080/"
        }
      },
      "execution_count": null,
      "outputs": [
        {
          "output_type": "stream",
          "name": "stdout",
          "text": [
            "Mounted at /content/drive\n"
          ]
        }
      ]
    },
    {
      "cell_type": "code",
      "source": [
        "from google.colab import drive\n",
        "drive.mount('/content/drive')"
      ],
      "metadata": {
        "id": "Da3tM-Xn1eif"
      },
      "execution_count": null,
      "outputs": []
    },
    {
      "cell_type": "markdown",
      "source": [
        "**Q1** Please use Pandas to read olympic_medals.csv and use parallel_categories function from plotly.express to visualize proportions of medal type for each gender from since year 2000. Please see the example in the Python notebook we walked through in the class."
      ],
      "metadata": {
        "id": "Ahlyu2CmZ7qA"
      }
    },
    {
      "cell_type": "code",
      "source": [
        "#please use this cell to read and select your data\n",
        "df = pd.read_csv('/content/drive/MyDrive/CSC302/DATA/olympic_medals.csv')\n",
        "df.head()\n"
      ],
      "metadata": {
        "colab": {
          "base_uri": "https://localhost:8080/",
          "height": 206
        },
        "id": "9bQlTm4QVPdJ",
        "outputId": "ba6e09db-4ff2-4142-f2b0-ce0c3d10931f"
      },
      "execution_count": null,
      "outputs": [
        {
          "output_type": "execute_result",
          "data": {
            "text/html": [
              "\n",
              "  <div id=\"df-a833ea23-898f-42ed-9d03-7e993f0207cc\">\n",
              "    <div class=\"colab-df-container\">\n",
              "      <div>\n",
              "<style scoped>\n",
              "    .dataframe tbody tr th:only-of-type {\n",
              "        vertical-align: middle;\n",
              "    }\n",
              "\n",
              "    .dataframe tbody tr th {\n",
              "        vertical-align: top;\n",
              "    }\n",
              "\n",
              "    .dataframe thead th {\n",
              "        text-align: right;\n",
              "    }\n",
              "</style>\n",
              "<table border=\"1\" class=\"dataframe\">\n",
              "  <thead>\n",
              "    <tr style=\"text-align: right;\">\n",
              "      <th></th>\n",
              "      <th>Gender</th>\n",
              "      <th>Event</th>\n",
              "      <th>Location</th>\n",
              "      <th>Year</th>\n",
              "      <th>Medal</th>\n",
              "      <th>Name</th>\n",
              "      <th>Nationality</th>\n",
              "      <th>Result</th>\n",
              "    </tr>\n",
              "  </thead>\n",
              "  <tbody>\n",
              "    <tr>\n",
              "      <th>0</th>\n",
              "      <td>M</td>\n",
              "      <td>10000M Men</td>\n",
              "      <td>Rio</td>\n",
              "      <td>2016</td>\n",
              "      <td>G</td>\n",
              "      <td>Mohamed FARAH</td>\n",
              "      <td>GBR</td>\n",
              "      <td>25:05.17</td>\n",
              "    </tr>\n",
              "    <tr>\n",
              "      <th>1</th>\n",
              "      <td>M</td>\n",
              "      <td>10000M Men</td>\n",
              "      <td>Rio</td>\n",
              "      <td>2016</td>\n",
              "      <td>S</td>\n",
              "      <td>Paul Kipngetich TANUI</td>\n",
              "      <td>KEN</td>\n",
              "      <td>27:05.64</td>\n",
              "    </tr>\n",
              "    <tr>\n",
              "      <th>2</th>\n",
              "      <td>M</td>\n",
              "      <td>10000M Men</td>\n",
              "      <td>Rio</td>\n",
              "      <td>2016</td>\n",
              "      <td>B</td>\n",
              "      <td>Tamirat TOLA</td>\n",
              "      <td>ETH</td>\n",
              "      <td>27:06.26</td>\n",
              "    </tr>\n",
              "    <tr>\n",
              "      <th>3</th>\n",
              "      <td>M</td>\n",
              "      <td>10000M Men</td>\n",
              "      <td>Beijing</td>\n",
              "      <td>2008</td>\n",
              "      <td>G</td>\n",
              "      <td>Kenenisa BEKELE</td>\n",
              "      <td>ETH</td>\n",
              "      <td>27:01.17</td>\n",
              "    </tr>\n",
              "    <tr>\n",
              "      <th>4</th>\n",
              "      <td>M</td>\n",
              "      <td>10000M Men</td>\n",
              "      <td>Beijing</td>\n",
              "      <td>2008</td>\n",
              "      <td>S</td>\n",
              "      <td>Sileshi SIHINE</td>\n",
              "      <td>ETH</td>\n",
              "      <td>27:02.77</td>\n",
              "    </tr>\n",
              "  </tbody>\n",
              "</table>\n",
              "</div>\n",
              "      <button class=\"colab-df-convert\" onclick=\"convertToInteractive('df-a833ea23-898f-42ed-9d03-7e993f0207cc')\"\n",
              "              title=\"Convert this dataframe to an interactive table.\"\n",
              "              style=\"display:none;\">\n",
              "        \n",
              "  <svg xmlns=\"http://www.w3.org/2000/svg\" height=\"24px\"viewBox=\"0 0 24 24\"\n",
              "       width=\"24px\">\n",
              "    <path d=\"M0 0h24v24H0V0z\" fill=\"none\"/>\n",
              "    <path d=\"M18.56 5.44l.94 2.06.94-2.06 2.06-.94-2.06-.94-.94-2.06-.94 2.06-2.06.94zm-11 1L8.5 8.5l.94-2.06 2.06-.94-2.06-.94L8.5 2.5l-.94 2.06-2.06.94zm10 10l.94 2.06.94-2.06 2.06-.94-2.06-.94-.94-2.06-.94 2.06-2.06.94z\"/><path d=\"M17.41 7.96l-1.37-1.37c-.4-.4-.92-.59-1.43-.59-.52 0-1.04.2-1.43.59L10.3 9.45l-7.72 7.72c-.78.78-.78 2.05 0 2.83L4 21.41c.39.39.9.59 1.41.59.51 0 1.02-.2 1.41-.59l7.78-7.78 2.81-2.81c.8-.78.8-2.07 0-2.86zM5.41 20L4 18.59l7.72-7.72 1.47 1.35L5.41 20z\"/>\n",
              "  </svg>\n",
              "      </button>\n",
              "      \n",
              "  <style>\n",
              "    .colab-df-container {\n",
              "      display:flex;\n",
              "      flex-wrap:wrap;\n",
              "      gap: 12px;\n",
              "    }\n",
              "\n",
              "    .colab-df-convert {\n",
              "      background-color: #E8F0FE;\n",
              "      border: none;\n",
              "      border-radius: 50%;\n",
              "      cursor: pointer;\n",
              "      display: none;\n",
              "      fill: #1967D2;\n",
              "      height: 32px;\n",
              "      padding: 0 0 0 0;\n",
              "      width: 32px;\n",
              "    }\n",
              "\n",
              "    .colab-df-convert:hover {\n",
              "      background-color: #E2EBFA;\n",
              "      box-shadow: 0px 1px 2px rgba(60, 64, 67, 0.3), 0px 1px 3px 1px rgba(60, 64, 67, 0.15);\n",
              "      fill: #174EA6;\n",
              "    }\n",
              "\n",
              "    [theme=dark] .colab-df-convert {\n",
              "      background-color: #3B4455;\n",
              "      fill: #D2E3FC;\n",
              "    }\n",
              "\n",
              "    [theme=dark] .colab-df-convert:hover {\n",
              "      background-color: #434B5C;\n",
              "      box-shadow: 0px 1px 3px 1px rgba(0, 0, 0, 0.15);\n",
              "      filter: drop-shadow(0px 1px 2px rgba(0, 0, 0, 0.3));\n",
              "      fill: #FFFFFF;\n",
              "    }\n",
              "  </style>\n",
              "\n",
              "      <script>\n",
              "        const buttonEl =\n",
              "          document.querySelector('#df-a833ea23-898f-42ed-9d03-7e993f0207cc button.colab-df-convert');\n",
              "        buttonEl.style.display =\n",
              "          google.colab.kernel.accessAllowed ? 'block' : 'none';\n",
              "\n",
              "        async function convertToInteractive(key) {\n",
              "          const element = document.querySelector('#df-a833ea23-898f-42ed-9d03-7e993f0207cc');\n",
              "          const dataTable =\n",
              "            await google.colab.kernel.invokeFunction('convertToInteractive',\n",
              "                                                     [key], {});\n",
              "          if (!dataTable) return;\n",
              "\n",
              "          const docLinkHtml = 'Like what you see? Visit the ' +\n",
              "            '<a target=\"_blank\" href=https://colab.research.google.com/notebooks/data_table.ipynb>data table notebook</a>'\n",
              "            + ' to learn more about interactive tables.';\n",
              "          element.innerHTML = '';\n",
              "          dataTable['output_type'] = 'display_data';\n",
              "          await google.colab.output.renderOutput(dataTable, element);\n",
              "          const docLink = document.createElement('div');\n",
              "          docLink.innerHTML = docLinkHtml;\n",
              "          element.appendChild(docLink);\n",
              "        }\n",
              "      </script>\n",
              "    </div>\n",
              "  </div>\n",
              "  "
            ],
            "text/plain": [
              "  Gender       Event Location  Year Medal                   Name Nationality  \\\n",
              "0      M  10000M Men      Rio  2016     G          Mohamed FARAH         GBR   \n",
              "1      M  10000M Men      Rio  2016     S  Paul Kipngetich TANUI         KEN   \n",
              "2      M  10000M Men      Rio  2016     B           Tamirat TOLA         ETH   \n",
              "3      M  10000M Men  Beijing  2008     G        Kenenisa BEKELE         ETH   \n",
              "4      M  10000M Men  Beijing  2008     S         Sileshi SIHINE         ETH   \n",
              "\n",
              "     Result  \n",
              "0  25:05.17  \n",
              "1  27:05.64  \n",
              "2  27:06.26  \n",
              "3  27:01.17  \n",
              "4  27:02.77  "
            ]
          },
          "metadata": {},
          "execution_count": 2
        }
      ]
    },
    {
      "cell_type": "code",
      "execution_count": null,
      "metadata": {
        "colab": {
          "base_uri": "https://localhost:8080/",
          "height": 542
        },
        "id": "IUJMNrQbVBre",
        "outputId": "6e414b9f-a103-4b20-ac18-ea6722c242c5"
      },
      "outputs": [
        {
          "output_type": "display_data",
          "data": {
            "text/html": [
              "<html>\n",
              "<head><meta charset=\"utf-8\" /></head>\n",
              "<body>\n",
              "    <div>            <script src=\"https://cdnjs.cloudflare.com/ajax/libs/mathjax/2.7.5/MathJax.js?config=TeX-AMS-MML_SVG\"></script><script type=\"text/javascript\">if (window.MathJax) {MathJax.Hub.Config({SVG: {font: \"STIX-Web\"}});}</script>                <script type=\"text/javascript\">window.PlotlyConfig = {MathJaxConfig: 'local'};</script>\n",
              "        <script src=\"https://cdn.plot.ly/plotly-2.8.3.min.js\"></script>                <div id=\"c7acad86-694a-4421-9c8c-ae27c7caf366\" class=\"plotly-graph-div\" style=\"height:525px; width:100%;\"></div>            <script type=\"text/javascript\">                                    window.PLOTLYENV=window.PLOTLYENV || {};                                    if (document.getElementById(\"c7acad86-694a-4421-9c8c-ae27c7caf366\")) {                    Plotly.newPlot(                        \"c7acad86-694a-4421-9c8c-ae27c7caf366\",                        [{\"dimensions\":[{\"label\":\"Year\",\"values\":[2016,2016,2016,2016,2016,2016,2016,2016,2016,2016,2016,2016,2016,2016,2016,2016,2016,2016,2016,2016,2016,2016,2016,2016,2016,2016,2016,2016,2016,2016,2016,2016,2016,2016,2016,2016,2016,2016,2016,2016,2016,2016,2016,2016,2016,2016,2016,2016,2016,2016,2016,2016,2016,2016,2016,2016,2016,2016,2016,2016,2016,2016,2016,2016,2016,2016,2016,2016,2016,2016,2016,2016,2016,2016,2016,2016,2016,2016,2016,2016,2016,2016,2016,2016,2016,2016,2016,2016,2016,2016,2016,2016,2016,2016,2016,2016,2016,2016,2016,2016,2016,2016,2016,2016,2016,2016,2016,2016,2016,2016,2016,2016,2016,2016,2016,2016,2016,2016,2016,2016,2016,2016,2016,2016,2016,2016,2016,2016,2016,2016,2016,2016,2016,2016,2016,2016,2016,2016,2016,2016,2016,2012,2012,2012,2012,2012,2012,2012,2012,2012,2012,2012,2012,2012,2012,2012,2012,2012,2012,2012,2012,2012,2012,2012,2012,2012,2012,2012,2012,2012,2012,2012,2012,2012,2012,2012,2012,2012,2012,2012,2012,2012,2012,2012,2012,2012,2012,2012,2012,2012,2012,2012,2012,2012,2012,2012,2012,2012,2012,2012,2012,2012,2012,2012,2012,2012,2012,2012,2012,2012,2012,2012,2012,2012,2012,2012,2012,2012,2012,2012,2012,2012,2012,2012,2012,2012,2012,2012,2012,2012,2012,2012,2012,2012,2012,2012,2012,2012,2012,2012,2012,2012,2012,2012,2012,2012,2012,2012,2012,2012,2012,2012,2012,2012,2012,2012,2012,2012,2012,2012,2012,2012,2012,2012,2012,2012,2012,2012,2012,2012,2012,2012,2012,2012,2012,2012,2012,2012,2012,2008,2008,2008,2008,2008,2008,2008,2008,2008,2008,2008,2008,2008,2008,2008,2008,2008,2008,2008,2008,2008,2008,2008,2008,2008,2008,2008,2008,2008,2008,2008,2008,2008,2008,2008,2008,2008,2008,2008,2008,2008,2008,2008,2008,2008,2008,2008,2008,2008,2008,2008,2008,2008,2008,2008,2008,2008,2008,2008,2008,2008,2008,2008,2008,2008,2008,2008,2008,2008,2008,2008,2008,2008,2008,2008,2008,2008,2008,2008,2008,2008,2008,2008,2008,2008,2008,2008,2008,2008,2008,2008,2008,2008,2008,2008,2008,2008,2008,2008,2008,2008,2008,2008,2008,2008,2008,2008,2008,2008,2008,2008,2008,2008,2008,2008,2008,2008,2008,2008,2008,2008,2008,2008,2008,2008,2008,2008,2008,2004,2004,2004,2004,2004,2004,2004,2004,2004,2004,2004,2004,2004,2004,2004,2004,2004,2004,2004,2004,2004,2004,2004,2004,2004,2004,2004,2004,2004,2004,2004,2004,2004,2004,2004,2004,2004,2004,2004,2004,2004,2004,2004,2004,2004,2004,2004,2004,2004,2004,2004,2004,2004,2004,2004,2004,2004,2004,2004,2004,2004,2004,2004,2004,2004,2004,2004,2004,2004,2004,2004,2004,2004,2004,2004,2004,2004,2004,2004,2004,2004,2004,2004,2004,2004,2004,2004,2004,2004,2004,2004,2004,2004,2004,2004,2004,2004,2004,2004,2004,2004,2004,2004,2004,2004,2004,2004,2004,2004,2004,2004,2004,2004,2004,2004,2004,2004,2004,2004,2004,2004,2004,2004,2004,2004,2004,2004,2004,2004,2004,2004,2004,2004,2004,2004,2004,2000,2000,2000,2000,2000,2000,2000,2000,2000,2000,2000,2000,2000,2000,2000,2000,2000,2000,2000,2000,2000,2000,2000,2000,2000,2000,2000,2000,2000,2000,2000,2000,2000,2000,2000,2000,2000,2000,2000,2000,2000,2000,2000,2000,2000,2000,2000,2000,2000,2000,2000,2000,2000,2000,2000,2000,2000,2000,2000,2000,2000,2000,2000,2000,2000,2000,2000,2000,2000,2000,2000,2000,2000,2000,2000,2000,2000,2000,2000,2000,2000,2000,2000,2000,2000,2000,2000,2000,2000,2000,2000,2000,2000,2000,2000,2000,2000,2000,2000,2000,2000,2000,2000,2000,2000,2000,2000,2000,2000,2000,2000,2000,2000,2000,2000,2000,2000,2000,2000,2000,2000,2000,2000,2000,2000,2000,2000,2000,2000,2000,2000,2000,2000,2000,2000,2000,2000,2000,2000,2000]},{\"label\":\"Medal\",\"values\":[\"G\",\"G\",\"G\",\"G\",\"G\",\"B\",\"S\",\"B\",\"B\",\"G\",\"S\",\"S\",\"S\",\"B\",\"B\",\"B\",\"S\",\"S\",\"G\",\"B\",\"G\",\"B\",\"S\",\"B\",\"G\",\"S\",\"B\",\"S\",\"G\",\"B\",\"B\",\"G\",\"G\",\"S\",\"S\",\"B\",\"G\",\"B\",\"G\",\"S\",\"G\",\"S\",\"G\",\"G\",\"G\",\"B\",\"B\",\"G\",\"B\",\"B\",\"S\",\"S\",\"S\",\"B\",\"S\",\"B\",\"S\",\"S\",\"G\",\"G\",\"B\",\"S\",\"S\",\"B\",\"B\",\"G\",\"S\",\"G\",\"G\",\"S\",\"B\",\"B\",\"S\",\"B\",\"G\",\"G\",\"B\",\"G\",\"G\",\"S\",\"G\",\"B\",\"S\",\"G\",\"G\",\"B\",\"G\",\"S\",\"G\",\"G\",\"S\",\"B\",\"G\",\"S\",\"B\",\"S\",\"S\",\"G\",\"S\",\"S\",\"G\",\"G\",\"B\",\"B\",\"S\",\"B\",\"S\",\"S\",\"S\",\"S\",\"G\",\"B\",\"G\",\"S\",\"B\",\"B\",\"S\",\"B\",\"B\",\"S\",\"G\",\"S\",\"B\",\"S\",\"B\",\"B\",\"G\",\"S\",\"B\",\"S\",\"S\",\"B\",\"G\",\"G\",\"G\",\"B\",\"G\",\"B\",\"B\",\"S\",\"G\",\"G\",\"B\",\"B\",\"G\",\"G\",\"S\",\"B\",\"B\",\"S\",\"B\",\"B\",\"G\",\"B\",\"G\",\"S\",\"G\",\"G\",\"S\",\"G\",\"G\",\"B\",\"B\",\"B\",\"S\",\"B\",\"S\",\"S\",\"G\",\"S\",\"G\",\"S\",\"S\",\"B\",\"G\",\"S\",\"B\",\"G\",\"B\",\"G\",\"S\",\"S\",\"G\",\"G\",\"B\",\"S\",\"B\",\"G\",\"G\",\"B\",\"G\",\"G\",\"B\",\"G\",\"S\",\"B\",\"B\",\"B\",\"B\",\"G\",\"B\",\"S\",\"B\",\"S\",\"G\",\"S\",\"B\",\"B\",\"S\",\"S\",\"G\",\"B\",\"G\",\"S\",\"B\",\"B\",\"S\",\"G\",\"G\",\"S\",\"S\",\"S\",\"S\",\"G\",\"B\",\"B\",\"S\",\"B\",\"G\",\"B\",\"S\",\"S\",\"S\",\"B\",\"S\",\"G\",\"B\",\"G\",\"S\",\"B\",\"G\",\"G\",\"B\",\"S\",\"G\",\"G\",\"B\",\"G\",\"B\",\"G\",\"B\",\"B\",\"S\",\"G\",\"B\",\"S\",\"S\",\"S\",\"B\",\"S\",\"S\",\"G\",\"B\",\"B\",\"S\",\"G\",\"S\",\"G\",\"G\",\"B\",\"B\",\"S\",\"S\",\"G\",\"B\",\"G\",\"G\",\"S\",\"B\",\"G\",\"B\",\"S\",\"G\",\"B\",\"B\",\"G\",\"B\",\"S\",\"G\",\"B\",\"S\",\"S\",\"S\",\"G\",\"G\",\"G\",\"G\",\"G\",\"S\",\"S\",\"S\",\"B\",\"S\",\"G\",\"G\",\"S\",\"G\",\"G\",\"B\",\"B\",\"B\",\"B\",\"B\",\"B\",\"G\",\"G\",\"G\",\"G\",\"S\",\"S\",\"B\",\"G\",\"S\",\"S\",\"S\",\"B\",\"G\",\"G\",\"G\",\"B\",\"B\",\"B\",\"G\",\"B\",\"G\",\"G\",\"B\",\"S\",\"B\",\"S\",\"G\",\"B\",\"S\",\"S\",\"G\",\"S\",\"G\",\"G\",\"S\",\"G\",\"G\",\"B\",\"S\",\"S\",\"B\",\"B\",\"B\",\"S\",\"G\",\"S\",\"S\",\"S\",\"S\",\"G\",\"B\",\"S\",\"S\",\"B\",\"S\",\"S\",\"G\",\"B\",\"G\",\"G\",\"S\",\"B\",\"B\",\"G\",\"G\",\"S\",\"G\",\"G\",\"B\",\"B\",\"S\",\"B\",\"G\",\"G\",\"S\",\"B\",\"G\",\"S\",\"B\",\"G\",\"G\",\"B\",\"B\",\"S\",\"G\",\"G\",\"S\",\"S\",\"B\",\"B\",\"S\",\"B\",\"S\",\"B\",\"G\",\"B\",\"S\",\"G\",\"S\",\"B\",\"S\",\"S\",\"G\",\"S\",\"S\",\"S\",\"B\",\"S\",\"S\",\"G\",\"S\",\"B\",\"B\",\"S\",\"G\",\"G\",\"S\",\"G\",\"G\",\"G\",\"G\",\"B\",\"G\",\"G\",\"B\",\"G\",\"B\",\"G\",\"B\",\"S\",\"S\",\"G\",\"S\",\"B\",\"B\",\"S\",\"G\",\"S\",\"S\",\"S\",\"S\",\"S\",\"B\",\"S\",\"B\",\"B\",\"B\",\"B\",\"G\",\"G\",\"G\",\"G\",\"B\",\"S\",\"B\",\"S\",\"S\",\"B\",\"G\",\"G\",\"G\",\"B\",\"G\",\"B\",\"S\",\"B\",\"S\",\"B\",\"B\",\"G\",\"G\",\"B\",\"S\",\"G\",\"G\",\"B\",\"B\",\"S\",\"B\",\"G\",\"G\",\"G\",\"S\",\"G\",\"G\",\"G\",\"S\",\"B\",\"G\",\"G\",\"B\",\"B\",\"B\",\"G\",\"B\",\"B\",\"S\",\"G\",\"S\",\"G\",\"S\",\"G\",\"B\",\"B\",\"S\",\"S\",\"S\",\"S\",\"B\",\"G\",\"S\",\"G\",\"G\",\"S\",\"G\",\"S\",\"G\",\"B\",\"B\",\"B\",\"S\",\"G\",\"B\",\"B\",\"S\",\"S\",\"B\",\"B\",\"S\",\"S\",\"B\",\"B\",\"G\",\"G\",\"S\",\"G\",\"S\",\"S\",\"G\",\"B\",\"S\",\"G\",\"B\",\"B\",\"G\",\"G\",\"G\",\"G\",\"S\",\"B\",\"S\",\"G\",\"G\",\"B\",\"B\",\"S\",\"S\",\"B\",\"B\",\"B\",\"S\",\"B\",\"B\",\"B\",\"B\",\"B\",\"B\",\"S\",\"S\",\"G\",\"S\",\"B\",\"G\",\"S\",\"B\",\"G\",\"G\",\"G\",\"B\",\"S\",\"G\",\"G\",\"S\",\"B\",\"G\",\"S\",\"G\",\"S\",\"S\",\"G\",\"B\",\"G\",\"G\",\"B\",\"S\",\"S\",\"G\",\"B\",\"S\",\"B\",\"S\",\"G\",\"B\",\"G\",\"B\",\"S\",\"S\",\"G\",\"B\",\"S\",\"S\",\"B\",\"S\",\"B\",\"B\",\"S\",\"G\",\"S\",\"B\",\"G\",\"S\",\"B\",\"S\",\"B\",\"B\",\"G\",\"S\",\"S\",\"G\",\"G\",\"S\",\"B\",\"G\",\"G\",\"B\",\"S\",\"B\",\"B\",\"S\",\"G\",\"G\",\"G\",\"S\",\"B\",\"S\",\"B\",\"G\",\"S\",\"B\",\"S\",\"G\",\"G\",\"B\",\"B\",\"G\",\"B\",\"S\",\"G\",\"S\",\"B\",\"G\",\"G\",\"S\",\"S\",\"S\",\"S\",\"G\",\"B\",\"G\"]},{\"label\":\"Gender\",\"values\":[\"M\",\"W\",\"M\",\"W\",\"W\",\"W\",\"M\",\"W\",\"W\",\"W\",\"M\",\"W\",\"W\",\"W\",\"M\",\"W\",\"W\",\"W\",\"M\",\"W\",\"W\",\"M\",\"M\",\"M\",\"W\",\"W\",\"M\",\"M\",\"W\",\"M\",\"W\",\"M\",\"M\",\"M\",\"M\",\"M\",\"M\",\"M\",\"W\",\"W\",\"M\",\"M\",\"W\",\"M\",\"M\",\"M\",\"M\",\"W\",\"M\",\"W\",\"M\",\"W\",\"W\",\"M\",\"M\",\"W\",\"W\",\"W\",\"M\",\"M\",\"M\",\"W\",\"M\",\"W\",\"M\",\"W\",\"W\",\"W\",\"W\",\"W\",\"W\",\"M\",\"M\",\"W\",\"M\",\"M\",\"W\",\"W\",\"M\",\"M\",\"M\",\"M\",\"M\",\"M\",\"W\",\"W\",\"W\",\"M\",\"M\",\"M\",\"M\",\"M\",\"W\",\"W\",\"M\",\"W\",\"M\",\"M\",\"W\",\"W\",\"W\",\"M\",\"W\",\"W\",\"M\",\"W\",\"M\",\"W\",\"M\",\"M\",\"W\",\"M\",\"M\",\"M\",\"M\",\"M\",\"M\",\"W\",\"M\",\"W\",\"M\",\"M\",\"M\",\"M\",\"W\",\"M\",\"M\",\"W\",\"W\",\"W\",\"W\",\"W\",\"W\",\"W\",\"M\",\"M\",\"W\",\"W\",\"W\",\"W\",\"W\",\"M\",\"W\",\"M\",\"W\",\"W\",\"W\",\"W\",\"W\",\"M\",\"M\",\"M\",\"M\",\"W\",\"W\",\"M\",\"W\",\"M\",\"M\",\"M\",\"W\",\"M\",\"M\",\"M\",\"M\",\"M\",\"M\",\"W\",\"M\",\"W\",\"W\",\"W\",\"W\",\"M\",\"W\",\"M\",\"W\",\"W\",\"M\",\"M\",\"M\",\"W\",\"M\",\"M\",\"M\",\"W\",\"M\",\"M\",\"M\",\"W\",\"W\",\"W\",\"M\",\"M\",\"W\",\"M\",\"W\",\"W\",\"W\",\"W\",\"W\",\"W\",\"M\",\"M\",\"M\",\"M\",\"W\",\"W\",\"M\",\"W\",\"M\",\"W\",\"W\",\"M\",\"W\",\"W\",\"W\",\"M\",\"W\",\"W\",\"M\",\"W\",\"W\",\"M\",\"W\",\"M\",\"W\",\"W\",\"W\",\"M\",\"W\",\"M\",\"W\",\"W\",\"M\",\"M\",\"W\",\"M\",\"W\",\"M\",\"W\",\"M\",\"M\",\"M\",\"W\",\"W\",\"M\",\"M\",\"M\",\"W\",\"M\",\"M\",\"M\",\"W\",\"W\",\"M\",\"W\",\"M\",\"M\",\"M\",\"W\",\"W\",\"M\",\"W\",\"M\",\"M\",\"M\",\"M\",\"M\",\"M\",\"M\",\"M\",\"W\",\"M\",\"W\",\"W\",\"M\",\"M\",\"W\",\"M\",\"W\",\"W\",\"W\",\"W\",\"M\",\"M\",\"M\",\"M\",\"M\",\"M\",\"M\",\"M\",\"M\",\"W\",\"M\",\"W\",\"W\",\"W\",\"W\",\"W\",\"M\",\"M\",\"M\",\"W\",\"M\",\"M\",\"M\",\"M\",\"M\",\"W\",\"M\",\"M\",\"W\",\"M\",\"M\",\"W\",\"M\",\"W\",\"W\",\"M\",\"M\",\"W\",\"M\",\"M\",\"W\",\"M\",\"M\",\"W\",\"M\",\"W\",\"W\",\"M\",\"W\",\"W\",\"M\",\"M\",\"W\",\"M\",\"M\",\"M\",\"M\",\"M\",\"M\",\"W\",\"M\",\"W\",\"W\",\"W\",\"W\",\"W\",\"W\",\"W\",\"W\",\"W\",\"M\",\"M\",\"W\",\"M\",\"M\",\"W\",\"M\",\"M\",\"M\",\"M\",\"W\",\"W\",\"W\",\"W\",\"M\",\"W\",\"W\",\"M\",\"W\",\"M\",\"W\",\"M\",\"W\",\"W\",\"M\",\"W\",\"M\",\"W\",\"W\",\"W\",\"M\",\"M\",\"W\",\"M\",\"M\",\"W\",\"M\",\"W\",\"W\",\"W\",\"W\",\"W\",\"M\",\"M\",\"M\",\"W\",\"W\",\"M\",\"M\",\"M\",\"M\",\"M\",\"M\",\"M\",\"W\",\"M\",\"M\",\"W\",\"M\",\"W\",\"W\",\"M\",\"M\",\"W\",\"M\",\"M\",\"M\",\"M\",\"M\",\"M\",\"M\",\"W\",\"W\",\"M\",\"W\",\"M\",\"W\",\"W\",\"W\",\"W\",\"W\",\"M\",\"M\",\"M\",\"M\",\"M\",\"M\",\"W\",\"W\",\"W\",\"M\",\"W\",\"W\",\"W\",\"W\",\"M\",\"M\",\"W\",\"W\",\"M\",\"M\",\"W\",\"W\",\"M\",\"W\",\"W\",\"W\",\"M\",\"M\",\"M\",\"W\",\"M\",\"M\",\"W\",\"M\",\"W\",\"W\",\"M\",\"W\",\"M\",\"M\",\"M\",\"W\",\"M\",\"W\",\"W\",\"W\",\"W\",\"M\",\"M\",\"M\",\"W\",\"W\",\"M\",\"W\",\"M\",\"M\",\"W\",\"M\",\"W\",\"W\",\"M\",\"M\",\"M\",\"W\",\"M\",\"W\",\"W\",\"W\",\"W\",\"M\",\"W\",\"M\",\"W\",\"W\",\"M\",\"M\",\"W\",\"M\",\"M\",\"M\",\"M\",\"M\",\"M\",\"W\",\"W\",\"W\",\"M\",\"M\",\"M\",\"W\",\"M\",\"M\",\"M\",\"M\",\"M\",\"W\",\"M\",\"W\",\"W\",\"W\",\"W\",\"W\",\"W\",\"M\",\"W\",\"M\",\"W\",\"M\",\"M\",\"W\",\"M\",\"M\",\"W\",\"W\",\"W\",\"W\",\"M\",\"W\",\"W\",\"W\",\"W\",\"W\",\"W\",\"M\",\"W\",\"W\",\"M\",\"W\",\"M\",\"M\",\"M\",\"M\",\"W\",\"M\",\"M\",\"M\",\"W\",\"M\",\"W\",\"W\",\"M\",\"M\",\"M\",\"W\",\"W\",\"M\",\"W\",\"W\",\"W\",\"M\",\"M\",\"W\",\"M\",\"W\",\"M\",\"M\",\"W\",\"M\",\"M\",\"M\",\"M\",\"M\",\"W\",\"M\",\"W\",\"M\",\"M\",\"W\",\"W\",\"M\",\"W\",\"M\",\"M\",\"M\",\"M\",\"W\",\"M\",\"W\",\"W\",\"M\",\"M\",\"W\",\"W\",\"M\",\"W\",\"W\",\"M\",\"W\",\"M\",\"W\",\"M\",\"M\",\"M\",\"W\",\"W\",\"W\",\"M\",\"W\",\"W\",\"W\",\"W\",\"M\",\"M\",\"M\",\"M\",\"M\",\"W\",\"W\",\"W\",\"W\",\"W\",\"M\",\"M\",\"M\",\"M\",\"M\",\"W\",\"W\",\"M\",\"M\",\"M\",\"M\",\"M\",\"W\",\"W\",\"W\",\"W\",\"W\",\"W\",\"W\",\"M\",\"M\",\"W\",\"W\",\"W\",\"M\",\"M\",\"M\",\"M\",\"W\",\"W\",\"W\",\"M\",\"M\",\"W\",\"M\",\"M\",\"M\"]}],\"domain\":{\"x\":[0.0,1.0],\"y\":[0.0,1.0]},\"line\":{\"color\":[2016,2016,2016,2016,2016,2016,2016,2016,2016,2016,2016,2016,2016,2016,2016,2016,2016,2016,2016,2016,2016,2016,2016,2016,2016,2016,2016,2016,2016,2016,2016,2016,2016,2016,2016,2016,2016,2016,2016,2016,2016,2016,2016,2016,2016,2016,2016,2016,2016,2016,2016,2016,2016,2016,2016,2016,2016,2016,2016,2016,2016,2016,2016,2016,2016,2016,2016,2016,2016,2016,2016,2016,2016,2016,2016,2016,2016,2016,2016,2016,2016,2016,2016,2016,2016,2016,2016,2016,2016,2016,2016,2016,2016,2016,2016,2016,2016,2016,2016,2016,2016,2016,2016,2016,2016,2016,2016,2016,2016,2016,2016,2016,2016,2016,2016,2016,2016,2016,2016,2016,2016,2016,2016,2016,2016,2016,2016,2016,2016,2016,2016,2016,2016,2016,2016,2016,2016,2016,2016,2016,2016,2012,2012,2012,2012,2012,2012,2012,2012,2012,2012,2012,2012,2012,2012,2012,2012,2012,2012,2012,2012,2012,2012,2012,2012,2012,2012,2012,2012,2012,2012,2012,2012,2012,2012,2012,2012,2012,2012,2012,2012,2012,2012,2012,2012,2012,2012,2012,2012,2012,2012,2012,2012,2012,2012,2012,2012,2012,2012,2012,2012,2012,2012,2012,2012,2012,2012,2012,2012,2012,2012,2012,2012,2012,2012,2012,2012,2012,2012,2012,2012,2012,2012,2012,2012,2012,2012,2012,2012,2012,2012,2012,2012,2012,2012,2012,2012,2012,2012,2012,2012,2012,2012,2012,2012,2012,2012,2012,2012,2012,2012,2012,2012,2012,2012,2012,2012,2012,2012,2012,2012,2012,2012,2012,2012,2012,2012,2012,2012,2012,2012,2012,2012,2012,2012,2012,2012,2012,2012,2008,2008,2008,2008,2008,2008,2008,2008,2008,2008,2008,2008,2008,2008,2008,2008,2008,2008,2008,2008,2008,2008,2008,2008,2008,2008,2008,2008,2008,2008,2008,2008,2008,2008,2008,2008,2008,2008,2008,2008,2008,2008,2008,2008,2008,2008,2008,2008,2008,2008,2008,2008,2008,2008,2008,2008,2008,2008,2008,2008,2008,2008,2008,2008,2008,2008,2008,2008,2008,2008,2008,2008,2008,2008,2008,2008,2008,2008,2008,2008,2008,2008,2008,2008,2008,2008,2008,2008,2008,2008,2008,2008,2008,2008,2008,2008,2008,2008,2008,2008,2008,2008,2008,2008,2008,2008,2008,2008,2008,2008,2008,2008,2008,2008,2008,2008,2008,2008,2008,2008,2008,2008,2008,2008,2008,2008,2008,2008,2004,2004,2004,2004,2004,2004,2004,2004,2004,2004,2004,2004,2004,2004,2004,2004,2004,2004,2004,2004,2004,2004,2004,2004,2004,2004,2004,2004,2004,2004,2004,2004,2004,2004,2004,2004,2004,2004,2004,2004,2004,2004,2004,2004,2004,2004,2004,2004,2004,2004,2004,2004,2004,2004,2004,2004,2004,2004,2004,2004,2004,2004,2004,2004,2004,2004,2004,2004,2004,2004,2004,2004,2004,2004,2004,2004,2004,2004,2004,2004,2004,2004,2004,2004,2004,2004,2004,2004,2004,2004,2004,2004,2004,2004,2004,2004,2004,2004,2004,2004,2004,2004,2004,2004,2004,2004,2004,2004,2004,2004,2004,2004,2004,2004,2004,2004,2004,2004,2004,2004,2004,2004,2004,2004,2004,2004,2004,2004,2004,2004,2004,2004,2004,2004,2004,2004,2000,2000,2000,2000,2000,2000,2000,2000,2000,2000,2000,2000,2000,2000,2000,2000,2000,2000,2000,2000,2000,2000,2000,2000,2000,2000,2000,2000,2000,2000,2000,2000,2000,2000,2000,2000,2000,2000,2000,2000,2000,2000,2000,2000,2000,2000,2000,2000,2000,2000,2000,2000,2000,2000,2000,2000,2000,2000,2000,2000,2000,2000,2000,2000,2000,2000,2000,2000,2000,2000,2000,2000,2000,2000,2000,2000,2000,2000,2000,2000,2000,2000,2000,2000,2000,2000,2000,2000,2000,2000,2000,2000,2000,2000,2000,2000,2000,2000,2000,2000,2000,2000,2000,2000,2000,2000,2000,2000,2000,2000,2000,2000,2000,2000,2000,2000,2000,2000,2000,2000,2000,2000,2000,2000,2000,2000,2000,2000,2000,2000,2000,2000,2000,2000,2000,2000,2000,2000,2000,2000],\"coloraxis\":\"coloraxis\"},\"name\":\"\",\"type\":\"parcats\"}],                        {\"template\":{\"data\":{\"bar\":[{\"error_x\":{\"color\":\"#2a3f5f\"},\"error_y\":{\"color\":\"#2a3f5f\"},\"marker\":{\"line\":{\"color\":\"#E5ECF6\",\"width\":0.5},\"pattern\":{\"fillmode\":\"overlay\",\"size\":10,\"solidity\":0.2}},\"type\":\"bar\"}],\"barpolar\":[{\"marker\":{\"line\":{\"color\":\"#E5ECF6\",\"width\":0.5},\"pattern\":{\"fillmode\":\"overlay\",\"size\":10,\"solidity\":0.2}},\"type\":\"barpolar\"}],\"carpet\":[{\"aaxis\":{\"endlinecolor\":\"#2a3f5f\",\"gridcolor\":\"white\",\"linecolor\":\"white\",\"minorgridcolor\":\"white\",\"startlinecolor\":\"#2a3f5f\"},\"baxis\":{\"endlinecolor\":\"#2a3f5f\",\"gridcolor\":\"white\",\"linecolor\":\"white\",\"minorgridcolor\":\"white\",\"startlinecolor\":\"#2a3f5f\"},\"type\":\"carpet\"}],\"choropleth\":[{\"colorbar\":{\"outlinewidth\":0,\"ticks\":\"\"},\"type\":\"choropleth\"}],\"contour\":[{\"colorbar\":{\"outlinewidth\":0,\"ticks\":\"\"},\"colorscale\":[[0.0,\"#0d0887\"],[0.1111111111111111,\"#46039f\"],[0.2222222222222222,\"#7201a8\"],[0.3333333333333333,\"#9c179e\"],[0.4444444444444444,\"#bd3786\"],[0.5555555555555556,\"#d8576b\"],[0.6666666666666666,\"#ed7953\"],[0.7777777777777778,\"#fb9f3a\"],[0.8888888888888888,\"#fdca26\"],[1.0,\"#f0f921\"]],\"type\":\"contour\"}],\"contourcarpet\":[{\"colorbar\":{\"outlinewidth\":0,\"ticks\":\"\"},\"type\":\"contourcarpet\"}],\"heatmap\":[{\"colorbar\":{\"outlinewidth\":0,\"ticks\":\"\"},\"colorscale\":[[0.0,\"#0d0887\"],[0.1111111111111111,\"#46039f\"],[0.2222222222222222,\"#7201a8\"],[0.3333333333333333,\"#9c179e\"],[0.4444444444444444,\"#bd3786\"],[0.5555555555555556,\"#d8576b\"],[0.6666666666666666,\"#ed7953\"],[0.7777777777777778,\"#fb9f3a\"],[0.8888888888888888,\"#fdca26\"],[1.0,\"#f0f921\"]],\"type\":\"heatmap\"}],\"heatmapgl\":[{\"colorbar\":{\"outlinewidth\":0,\"ticks\":\"\"},\"colorscale\":[[0.0,\"#0d0887\"],[0.1111111111111111,\"#46039f\"],[0.2222222222222222,\"#7201a8\"],[0.3333333333333333,\"#9c179e\"],[0.4444444444444444,\"#bd3786\"],[0.5555555555555556,\"#d8576b\"],[0.6666666666666666,\"#ed7953\"],[0.7777777777777778,\"#fb9f3a\"],[0.8888888888888888,\"#fdca26\"],[1.0,\"#f0f921\"]],\"type\":\"heatmapgl\"}],\"histogram\":[{\"marker\":{\"pattern\":{\"fillmode\":\"overlay\",\"size\":10,\"solidity\":0.2}},\"type\":\"histogram\"}],\"histogram2d\":[{\"colorbar\":{\"outlinewidth\":0,\"ticks\":\"\"},\"colorscale\":[[0.0,\"#0d0887\"],[0.1111111111111111,\"#46039f\"],[0.2222222222222222,\"#7201a8\"],[0.3333333333333333,\"#9c179e\"],[0.4444444444444444,\"#bd3786\"],[0.5555555555555556,\"#d8576b\"],[0.6666666666666666,\"#ed7953\"],[0.7777777777777778,\"#fb9f3a\"],[0.8888888888888888,\"#fdca26\"],[1.0,\"#f0f921\"]],\"type\":\"histogram2d\"}],\"histogram2dcontour\":[{\"colorbar\":{\"outlinewidth\":0,\"ticks\":\"\"},\"colorscale\":[[0.0,\"#0d0887\"],[0.1111111111111111,\"#46039f\"],[0.2222222222222222,\"#7201a8\"],[0.3333333333333333,\"#9c179e\"],[0.4444444444444444,\"#bd3786\"],[0.5555555555555556,\"#d8576b\"],[0.6666666666666666,\"#ed7953\"],[0.7777777777777778,\"#fb9f3a\"],[0.8888888888888888,\"#fdca26\"],[1.0,\"#f0f921\"]],\"type\":\"histogram2dcontour\"}],\"mesh3d\":[{\"colorbar\":{\"outlinewidth\":0,\"ticks\":\"\"},\"type\":\"mesh3d\"}],\"parcoords\":[{\"line\":{\"colorbar\":{\"outlinewidth\":0,\"ticks\":\"\"}},\"type\":\"parcoords\"}],\"pie\":[{\"automargin\":true,\"type\":\"pie\"}],\"scatter\":[{\"marker\":{\"colorbar\":{\"outlinewidth\":0,\"ticks\":\"\"}},\"type\":\"scatter\"}],\"scatter3d\":[{\"line\":{\"colorbar\":{\"outlinewidth\":0,\"ticks\":\"\"}},\"marker\":{\"colorbar\":{\"outlinewidth\":0,\"ticks\":\"\"}},\"type\":\"scatter3d\"}],\"scattercarpet\":[{\"marker\":{\"colorbar\":{\"outlinewidth\":0,\"ticks\":\"\"}},\"type\":\"scattercarpet\"}],\"scattergeo\":[{\"marker\":{\"colorbar\":{\"outlinewidth\":0,\"ticks\":\"\"}},\"type\":\"scattergeo\"}],\"scattergl\":[{\"marker\":{\"colorbar\":{\"outlinewidth\":0,\"ticks\":\"\"}},\"type\":\"scattergl\"}],\"scattermapbox\":[{\"marker\":{\"colorbar\":{\"outlinewidth\":0,\"ticks\":\"\"}},\"type\":\"scattermapbox\"}],\"scatterpolar\":[{\"marker\":{\"colorbar\":{\"outlinewidth\":0,\"ticks\":\"\"}},\"type\":\"scatterpolar\"}],\"scatterpolargl\":[{\"marker\":{\"colorbar\":{\"outlinewidth\":0,\"ticks\":\"\"}},\"type\":\"scatterpolargl\"}],\"scatterternary\":[{\"marker\":{\"colorbar\":{\"outlinewidth\":0,\"ticks\":\"\"}},\"type\":\"scatterternary\"}],\"surface\":[{\"colorbar\":{\"outlinewidth\":0,\"ticks\":\"\"},\"colorscale\":[[0.0,\"#0d0887\"],[0.1111111111111111,\"#46039f\"],[0.2222222222222222,\"#7201a8\"],[0.3333333333333333,\"#9c179e\"],[0.4444444444444444,\"#bd3786\"],[0.5555555555555556,\"#d8576b\"],[0.6666666666666666,\"#ed7953\"],[0.7777777777777778,\"#fb9f3a\"],[0.8888888888888888,\"#fdca26\"],[1.0,\"#f0f921\"]],\"type\":\"surface\"}],\"table\":[{\"cells\":{\"fill\":{\"color\":\"#EBF0F8\"},\"line\":{\"color\":\"white\"}},\"header\":{\"fill\":{\"color\":\"#C8D4E3\"},\"line\":{\"color\":\"white\"}},\"type\":\"table\"}]},\"layout\":{\"annotationdefaults\":{\"arrowcolor\":\"#2a3f5f\",\"arrowhead\":0,\"arrowwidth\":1},\"autotypenumbers\":\"strict\",\"coloraxis\":{\"colorbar\":{\"outlinewidth\":0,\"ticks\":\"\"}},\"colorscale\":{\"diverging\":[[0,\"#8e0152\"],[0.1,\"#c51b7d\"],[0.2,\"#de77ae\"],[0.3,\"#f1b6da\"],[0.4,\"#fde0ef\"],[0.5,\"#f7f7f7\"],[0.6,\"#e6f5d0\"],[0.7,\"#b8e186\"],[0.8,\"#7fbc41\"],[0.9,\"#4d9221\"],[1,\"#276419\"]],\"sequential\":[[0.0,\"#0d0887\"],[0.1111111111111111,\"#46039f\"],[0.2222222222222222,\"#7201a8\"],[0.3333333333333333,\"#9c179e\"],[0.4444444444444444,\"#bd3786\"],[0.5555555555555556,\"#d8576b\"],[0.6666666666666666,\"#ed7953\"],[0.7777777777777778,\"#fb9f3a\"],[0.8888888888888888,\"#fdca26\"],[1.0,\"#f0f921\"]],\"sequentialminus\":[[0.0,\"#0d0887\"],[0.1111111111111111,\"#46039f\"],[0.2222222222222222,\"#7201a8\"],[0.3333333333333333,\"#9c179e\"],[0.4444444444444444,\"#bd3786\"],[0.5555555555555556,\"#d8576b\"],[0.6666666666666666,\"#ed7953\"],[0.7777777777777778,\"#fb9f3a\"],[0.8888888888888888,\"#fdca26\"],[1.0,\"#f0f921\"]]},\"colorway\":[\"#636efa\",\"#EF553B\",\"#00cc96\",\"#ab63fa\",\"#FFA15A\",\"#19d3f3\",\"#FF6692\",\"#B6E880\",\"#FF97FF\",\"#FECB52\"],\"font\":{\"color\":\"#2a3f5f\"},\"geo\":{\"bgcolor\":\"white\",\"lakecolor\":\"white\",\"landcolor\":\"#E5ECF6\",\"showlakes\":true,\"showland\":true,\"subunitcolor\":\"white\"},\"hoverlabel\":{\"align\":\"left\"},\"hovermode\":\"closest\",\"mapbox\":{\"style\":\"light\"},\"paper_bgcolor\":\"white\",\"plot_bgcolor\":\"#E5ECF6\",\"polar\":{\"angularaxis\":{\"gridcolor\":\"white\",\"linecolor\":\"white\",\"ticks\":\"\"},\"bgcolor\":\"#E5ECF6\",\"radialaxis\":{\"gridcolor\":\"white\",\"linecolor\":\"white\",\"ticks\":\"\"}},\"scene\":{\"xaxis\":{\"backgroundcolor\":\"#E5ECF6\",\"gridcolor\":\"white\",\"gridwidth\":2,\"linecolor\":\"white\",\"showbackground\":true,\"ticks\":\"\",\"zerolinecolor\":\"white\"},\"yaxis\":{\"backgroundcolor\":\"#E5ECF6\",\"gridcolor\":\"white\",\"gridwidth\":2,\"linecolor\":\"white\",\"showbackground\":true,\"ticks\":\"\",\"zerolinecolor\":\"white\"},\"zaxis\":{\"backgroundcolor\":\"#E5ECF6\",\"gridcolor\":\"white\",\"gridwidth\":2,\"linecolor\":\"white\",\"showbackground\":true,\"ticks\":\"\",\"zerolinecolor\":\"white\"}},\"shapedefaults\":{\"line\":{\"color\":\"#2a3f5f\"}},\"ternary\":{\"aaxis\":{\"gridcolor\":\"white\",\"linecolor\":\"white\",\"ticks\":\"\"},\"baxis\":{\"gridcolor\":\"white\",\"linecolor\":\"white\",\"ticks\":\"\"},\"bgcolor\":\"#E5ECF6\",\"caxis\":{\"gridcolor\":\"white\",\"linecolor\":\"white\",\"ticks\":\"\"}},\"title\":{\"x\":0.05},\"xaxis\":{\"automargin\":true,\"gridcolor\":\"white\",\"linecolor\":\"white\",\"ticks\":\"\",\"title\":{\"standoff\":15},\"zerolinecolor\":\"white\",\"zerolinewidth\":2},\"yaxis\":{\"automargin\":true,\"gridcolor\":\"white\",\"linecolor\":\"white\",\"ticks\":\"\",\"title\":{\"standoff\":15},\"zerolinecolor\":\"white\",\"zerolinewidth\":2}}},\"coloraxis\":{\"colorbar\":{\"title\":{\"text\":\"Year\"}},\"colorscale\":[[0.0,\"#000004\"],[0.1111111111111111,\"#1b0c41\"],[0.2222222222222222,\"#4a0c6b\"],[0.3333333333333333,\"#781c6d\"],[0.4444444444444444,\"#a52c60\"],[0.5555555555555556,\"#cf4446\"],[0.6666666666666666,\"#ed6925\"],[0.7777777777777778,\"#fb9b06\"],[0.8888888888888888,\"#f7d13d\"],[1.0,\"#fcffa4\"]]},\"legend\":{\"tracegroupgap\":0},\"margin\":{\"t\":60}},                        {\"responsive\": true}                    ).then(function(){\n",
              "                            \n",
              "var gd = document.getElementById('c7acad86-694a-4421-9c8c-ae27c7caf366');\n",
              "var x = new MutationObserver(function (mutations, observer) {{\n",
              "        var display = window.getComputedStyle(gd).display;\n",
              "        if (!display || display === 'none') {{\n",
              "            console.log([gd, 'removed!']);\n",
              "            Plotly.purge(gd);\n",
              "            observer.disconnect();\n",
              "        }}\n",
              "}});\n",
              "\n",
              "// Listen for the removal of the full notebook cells\n",
              "var notebookContainer = gd.closest('#notebook-container');\n",
              "if (notebookContainer) {{\n",
              "    x.observe(notebookContainer, {childList: true});\n",
              "}}\n",
              "\n",
              "// Listen for the clearing of the current output cell\n",
              "var outputEl = gd.closest('.output');\n",
              "if (outputEl) {{\n",
              "    x.observe(outputEl, {childList: true});\n",
              "}}\n",
              "\n",
              "                        })                };                            </script>        </div>\n",
              "</body>\n",
              "</html>"
            ]
          },
          "metadata": {}
        }
      ],
      "source": [
        "#Please use this cell to create your your figure. Please use Year column to color your graph.\n",
        "import plotly.express as px\n",
        "df = df[(df['Year']>=2000)]\n",
        "px.parallel_categories(df, dimensions=['Year', 'Medal', 'Gender'], color=\"Year\", color_continuous_scale=px.colors.sequential.Inferno)\n",
        "\n"
      ]
    },
    {
      "cell_type": "markdown",
      "source": [
        "**Q2** Please inspect the code below and observe how values are plotted by running it. Then, read the 2016elections.csv from the DATA folder and select rows for AR, MI, CA, and WI. Then, utilize stacked bar plot, to stack vote percentages for Trump, Clinton, Johson, and Others. Please see 'pct_clinton',\t'pct_trump',\t'pct_johnson',\t'pct_other' columns. Make sure that your x tick labels are those four states above."
      ],
      "metadata": {
        "id": "dqL_OMuiKITK"
      }
    },
    {
      "cell_type": "code",
      "source": [
        "import pandas as pd\n",
        "import seaborn as sns\n",
        "import matplotlib.pyplot as plt\n",
        "\n",
        "# create DataFrame \n",
        "df = pd.DataFrame({'High Temp': [28, 30, 34, 38, 45, 42,\n",
        "                                 38, 35, 32, 28, 25, 21],\n",
        "                   'Low Temp': [22, 26, 30, 32, 41, 38,\n",
        "                                32, 31, 28, 22, 15, 15],\n",
        "                   'Avg Temp': [25, 28, 32, 35, 43, 40,\n",
        "                                35, 33, 30, 25, 20, 18]},\n",
        "                  index=['Jan', 'Feb', 'Mar', 'Apr', 'May',\n",
        "                         'Jun', 'Jul', 'Aug', 'Sep', 'Oct',\n",
        "                         'Nov', 'Dec']) \n",
        "\n",
        " \n",
        "# create stacked bar chart for monthly temperatures\n",
        "df.plot(kind='bar', stacked=True, color=['red', 'skyblue', 'green'])\n",
        " \n",
        "# labels for x & y axis\n",
        "plt.xlabel('Months')\n",
        "plt.ylabel('Temp ranges in Degree Celsius')\n",
        " \n",
        "# title of plot\n",
        "plt.title('Monthly Temperatures in a year')"
      ],
      "metadata": {
        "colab": {
          "base_uri": "https://localhost:8080/",
          "height": 323
        },
        "id": "tLCiMCuPKRbC",
        "outputId": "bf2034cd-e229-417e-ece3-5e3362eb10df"
      },
      "execution_count": null,
      "outputs": [
        {
          "output_type": "execute_result",
          "data": {
            "text/plain": [
              "Text(0.5, 1.0, 'Monthly Temperatures in a year')"
            ]
          },
          "metadata": {},
          "execution_count": 54
        },
        {
          "output_type": "display_data",
          "data": {
            "image/png": "[encoded data removed]",
            "text/plain": [
              "<Figure size 432x288 with 1 Axes>"
            ]
          },
          "metadata": {
            "needs_background": "light"
          }
        }
      ]
    },
    {
      "cell_type": "code",
      "source": [
        "#You can use this cell to write your code. It is doable at most 4 lines of code. \n",
        "import pandas as pd\n",
        "import seaborn as sns\n",
        "import matplotlib.pyplot as plt\n",
        "\n",
        "df = pd.read_csv('/content/drive/MyDrive/CSC302/DATA/2016elections.csv', index_col ='st')\n",
        "df = df.loc[['AR', 'MI', 'CA', 'WI'], ['pct_clinton', 'pct_trump', 'pct_johnson', 'pct_other']]\n",
        "df.plot(kind='bar', stacked=True, color=['red', 'skyblue', 'green', 'blue'])\n",
        "\n",
        "# labels for x & y axis\n",
        "plt.xlabel('States')\n",
        "plt.ylabel('Vote Percentage')\n",
        " \n",
        "# title of plot\n",
        "plt.title('2016 Voting Percentage')"
      ],
      "metadata": {
        "id": "8rMIPtQDK9QI",
        "outputId": "12af94c4-6e7a-40ed-f994-7b4e1ea1cc36",
        "colab": {
          "base_uri": "https://localhost:8080/",
          "height": 316
        }
      },
      "execution_count": null,
      "outputs": [
        {
          "output_type": "execute_result",
          "data": {
            "text/plain": [
              "Text(0.5, 1.0, '2016 Voting Percentage')"
            ]
          },
          "metadata": {},
          "execution_count": 53
        },
        {
          "output_type": "display_data",
          "data": {
            "image/png": "[encoded data removed]",
            "text/plain": [
              "<Figure size 432x288 with 1 Axes>"
            ]
          },
          "metadata": {
            "needs_background": "light"
          }
        }
      ]
    }
  ]
}